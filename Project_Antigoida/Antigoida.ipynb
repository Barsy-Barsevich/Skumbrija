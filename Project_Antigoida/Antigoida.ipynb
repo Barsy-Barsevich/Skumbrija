{
 "cells": [
  {
   "cell_type": "code",
   "execution_count": 40,
   "id": "349a51ae-8e94-42fb-bf0a-0892d749e7a1",
   "metadata": {},
   "outputs": [
    {
     "name": "stderr",
     "output_type": "stream",
     "text": [
      "/tmp/ipykernel_4061/684694102.py:64: DeprecationWarning: Conversion of an array with ndim > 0 to a scalar is deprecated, and will error in future. Ensure you extract a single element from your array before performing this operation. (Deprecated NumPy 1.25.)\n",
      "  vel_arr.append(float(velocity[0]))\n"
     ]
    },
    {
     "data": {
      "image/png": "[encoded data removed]",
      "text/plain": [
       "<Figure size 640x480 with 1 Axes>"
      ]
     },
     "metadata": {},
     "output_type": "display_data"
    }
   ],
   "source": [
    "import numpy as np\n",
    "from sympy import *\n",
    "import matplotlib.pyplot as plt\n",
    "\n",
    "def W_from_L(results):\n",
    "    # results - vector 1x3\n",
    "    J = np.matrix('7 2 3; 5 -3 2; 10 -11 5')\n",
    "    J_det = np.linalg.det(J)\n",
    "    #create matrixes for angle velocities\n",
    "    w_x_m = np.matrix(J)\n",
    "    w_y_m = np.matrix(J)\n",
    "    w_z_m = np.matrix(J)\n",
    "    w_x_m[:, 0] = results\n",
    "    w_y_m[:, 1] = results\n",
    "    w_z_m[:, 2] = results\n",
    "    w_x = np.linalg.det(w_x_m) / J_det\n",
    "    w_y = np.linalg.det(w_y_m) / J_det\n",
    "    w_z = np.linalg.det(w_z_m) / J_det\n",
    "\n",
    "    print(np.dot(J, np.matrix(str(w_x)+'; '+str(w_y)+'; '+str(w_z))))\n",
    "    return np.array([w_x, w_y, w_z])\n",
    "\n",
    "\n",
    "def Engine_Acceleration(time):\n",
    "    force = np.matrix('0.0; 0.0; 0.0');\n",
    "    if time > 2:\n",
    "        pass\n",
    "    elif time < 0.2:\n",
    "        force[0] = 44\n",
    "    elif time < 0.3:\n",
    "        force[0] = 186\n",
    "    elif time < 0.4:\n",
    "        force[0] = 243\n",
    "    elif time < 0.6:\n",
    "        force[0] = 250\n",
    "    elif time < 0.8:\n",
    "        force[0] = 211\n",
    "    elif time < 1.0:\n",
    "        force[0] = 180\n",
    "    elif time < 1.2:\n",
    "        force[0] = 150\n",
    "    elif time < 1.4:\n",
    "        force[0] = 103\n",
    "    elif time < 1.6:\n",
    "        force[0] = 34\n",
    "    elif time < 1.8:\n",
    "        force[0] = 5\n",
    "    force /= 1.5 #mass of the rocket, should be time function\n",
    "    return force\n",
    "\n",
    "\n",
    "time_arr = []\n",
    "vel_arr = []\n",
    "velocity = np.matrix('0.0; 0.0; 0.0')\n",
    "delta_t = 0.01\n",
    "for i in range(int(5/delta_t)):\n",
    "    time = i * delta_t\n",
    "    acc = np.matrix('0.0; 0.0; 0.0');\n",
    "    acc += Engine_Acceleration(time)\n",
    "    acc += np.matrix('-10; 0; 0')\n",
    "    velocity += acc * delta_t\n",
    "    #print(velocity[0], velocity[1], velocity[2])\n",
    "    time_arr.append(time)\n",
    "    vel_arr.append(float(velocity[0]))\n",
    "    #vel_arr.append(float(acc[0]))\n",
    "\n",
    "x = [1.0, 2.0, 3.0, 4.0, 5.0]\n",
    "y = [25.0, 32.0, 34.0, 20.0, 25.0]\n",
    "plt.plot(time_arr, vel_arr)\n",
    "plt.show()\n",
    "    \n",
    "\n",
    "#print(W_from_L(np.matrix('1; 43; 1')))\n",
    "#print(Engine_Acceleration(1))"
   ]
  },
  {
   "cell_type": "code",
   "execution_count": null,
   "id": "5c1c9775-c320-4aeb-93a0-0a494eedda21",
   "metadata": {},
   "outputs": [],
   "source": []
  },
  {
   "cell_type": "code",
   "execution_count": null,
   "id": "a5db6936-0b29-42a7-9298-bb158af38277",
   "metadata": {},
   "outputs": [],
   "source": []
  }
 ],
 "metadata": {
  "kernelspec": {
   "display_name": "Python 3 (ipykernel)",
   "language": "python",
   "name": "python3"
  },
  "language_info": {
   "codemirror_mode": {
    "name": "ipython",
    "version": 3
   },
   "file_extension": ".py",
   "mimetype": "text/x-python",
   "name": "python",
   "nbconvert_exporter": "python",
   "pygments_lexer": "ipython3",
   "version": "3.12.4"
  }
 },
 "nbformat": 4,
 "nbformat_minor": 5
}
